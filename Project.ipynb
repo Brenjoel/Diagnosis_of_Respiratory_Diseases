{
 "cells": [
  {
   "cell_type": "code",
   "execution_count": null,
   "id": "52cec5d0",
   "metadata": {},
   "outputs": [],
   "source": [
    "import numpy as np\n",
    "import pandas as pd\n",
    "import matplotlib.pyplot as plt\n",
    "from tensorflow.keras.preprocessing.image import load_img,ImageDataGenerator\n",
    "import os\n",
    "import random\n",
    "import time\n",
    "from datetime import datetime \n"
   ]
  },
  {
   "cell_type": "code",
   "execution_count": null,
   "id": "96568eaf",
   "metadata": {},
   "outputs": [],
   "source": [
    "input_path= []\n",
    "label = []"
   ]
  },
  {
   "cell_type": "code",
   "execution_count": null,
   "id": "d8e6d551",
   "metadata": {},
   "outputs": [],
   "source": [
    "dpath= r\"E:\\prac\\DL\\Hexart\\LungXRays-grayscale\\train\""
   ]
  },
  {
   "cell_type": "code",
   "execution_count": null,
   "id": "0daa5c1a",
   "metadata": {},
   "outputs": [],
   "source": [
    "for cls in os.listdir(dpath):\n",
    "    print(cls)"
   ]
  },
  {
   "cell_type": "code",
   "execution_count": null,
   "id": "4b93689e",
   "metadata": {
    "scrolled": true
   },
   "outputs": [],
   "source": [
    "for cls in os.listdir(dpath):\n",
    "    for p in os.listdir(dpath+\"/\"+cls):\n",
    "        if cls == 'Pneumonia':\n",
    "            label.append('p')\n",
    "        elif cls == 'Tuberculosis' :\n",
    "            label.append('t')\n",
    "        elif cls == 'Normal' :\n",
    "            label.append('n')\n",
    "        input_path.append(os.path.join(dpath,cls,p))\n",
    "print(input_path[0],label[0])"
   ]
  },
  {
   "cell_type": "code",
   "execution_count": null,
   "id": "4846546c",
   "metadata": {},
   "outputs": [],
   "source": [
    "print(\"Total number of images: \",len(input_path))\n",
    "print(len(label))"
   ]
  },
  {
   "cell_type": "code",
   "execution_count": null,
   "id": "eb7f5c89",
   "metadata": {},
   "outputs": [],
   "source": [
    "df = pd.DataFrame()\n",
    "df['images']=input_path\n",
    "df['label']=label\n",
    "df=df.sample(frac=1).reset_index(drop=True)\n",
    "df.head()"
   ]
  },
  {
   "cell_type": "code",
   "execution_count": null,
   "id": "68560f24",
   "metadata": {},
   "outputs": [],
   "source": [
    "import seaborn as sns\n",
    "sns.countplot(x=df['label'])"
   ]
  },
  {
   "cell_type": "code",
   "execution_count": null,
   "id": "0b4bf007",
   "metadata": {},
   "outputs": [],
   "source": [
    "plt.figure(figsize=(25,25))\n",
    "temp = df[df['label']=='p']['images']\n",
    "start = random.randint(0,len(temp))\n",
    "files = temp[start:start+5]\n",
    "\n",
    "for idx,fil in enumerate(files):\n",
    "    plt.subplot(5,5,idx+1)\n",
    "    img = load_img(fil)\n",
    "    img = np.array(img)\n",
    "    plt.imshow(img)\n",
    "    plt.title('Pneumonia')\n",
    "    plt.axis('off')"
   ]
  },
  {
   "cell_type": "code",
   "execution_count": null,
   "id": "87b031b8",
   "metadata": {},
   "outputs": [],
   "source": [
    "plt.figure(figsize=(25,25))\n",
    "temp = df[df['label']=='n']['images']\n",
    "start = random.randint(0,len(temp))\n",
    "files = temp[start:start+5]\n",
    "\n",
    "for idx,fil in enumerate(files):\n",
    "    plt.subplot(5,5,idx+1)\n",
    "    img = load_img(fil)\n",
    "    img = np.array(img)\n",
    "    plt.imshow(img)\n",
    "    plt.title('Normal')\n",
    "    plt.axis('off')\n",
    "    "
   ]
  },
  {
   "cell_type": "code",
   "execution_count": null,
   "id": "54691626",
   "metadata": {},
   "outputs": [],
   "source": [
    "plt.figure(figsize=(25,25))\n",
    "temp = df[df['label']=='t']['images']\n",
    "start = random.randint(0,len(temp))\n",
    "files = temp[start:start+5]\n",
    "\n",
    "for idx,fil in enumerate(files):\n",
    "    plt.subplot(5,5,idx+1)\n",
    "    img = load_img(fil)\n",
    "    img = np.array(img)\n",
    "    plt.imshow(img)\n",
    "    plt.title('Tuberculosis')\n",
    "    plt.axis('off')\n",
    "    "
   ]
  },
  {
   "cell_type": "markdown",
   "id": "a19619a1",
   "metadata": {},
   "source": [
    "# split data"
   ]
  },
  {
   "cell_type": "code",
   "execution_count": null,
   "id": "15ef1eeb",
   "metadata": {},
   "outputs": [],
   "source": [
    "from sklearn.model_selection import train_test_split\n",
    "train ,test = train_test_split(df, test_size=0.2 , random_state=42)"
   ]
  },
  {
   "cell_type": "code",
   "execution_count": null,
   "id": "a30b81f5",
   "metadata": {},
   "outputs": [],
   "source": [
    "test.head()"
   ]
  },
  {
   "cell_type": "markdown",
   "id": "6d26c27a",
   "metadata": {},
   "source": [
    "# data Generator"
   ]
  },
  {
   "cell_type": "code",
   "execution_count": null,
   "id": "2a4e3f6f",
   "metadata": {},
   "outputs": [],
   "source": [
    "train_gen = ImageDataGenerator(\n",
    "    rescale = 1./255, # can also use for test data to normalize\n",
    "    rotation_range = 40,\n",
    "    shear_range = 0.2,\n",
    "    zoom_range = 0.2,\n",
    "    horizontal_flip = True,\n",
    "    fill_mode = 'nearest'\n",
    ")\n",
    "\n",
    "val_gen = ImageDataGenerator(rescale = 1./255)\n",
    "\n",
    "train_it = train_gen.flow_from_dataframe(\n",
    "    train,\n",
    "    x_col='images',\n",
    "    y_col='label', \n",
    "    target_size=(128,128) ,\n",
    "    batch_size=128,\n",
    "    class_mode='categorical'\n",
    ")\n",
    "\n",
    "val_it = val_gen.flow_from_dataframe(\n",
    "    test,\n",
    "    x_col='images',\n",
    "    y_col='label', \n",
    "    target_size=(128,128) ,\n",
    "    batch_size=128,\n",
    "    class_mode='categorical'\n",
    ")"
   ]
  },
  {
   "cell_type": "markdown",
   "id": "e5859575",
   "metadata": {},
   "source": [
    "# Model creation\n"
   ]
  },
  {
   "cell_type": "code",
   "execution_count": null,
   "id": "3db60253",
   "metadata": {},
   "outputs": [],
   "source": [
    "import keras\n",
    "from keras import Sequential\n",
    "from keras.layers import Conv2D, MaxPool2D , Flatten , Dense\n",
    "# "
   ]
  },
  {
   "cell_type": "code",
   "execution_count": null,
   "id": "51655e50",
   "metadata": {},
   "outputs": [],
   "source": [
    "def build_model(opt):\n",
    "    model = keras.Sequential([\n",
    "        Conv2D(16,(3,3), activation = 'relu' , input_shape= (128,128,3)),\n",
    "        MaxPool2D((2,2)),\n",
    "\n",
    "        Conv2D(32,(3,3), activation = 'relu' ,),\n",
    "        MaxPool2D((2,2)),\n",
    "\n",
    "        Conv2D(64,(3,3), activation = 'relu' ,),\n",
    "        MaxPool2D((2,2)),\n",
    "\n",
    "        Flatten(),\n",
    "        Dense(128 , activation = 'relu'),\n",
    "        Dense(3 , activation = 'softmax') \n",
    "    ])\n",
    "    model.compile(optimizer = opt , loss = 'categorical_crossentropy' , metrics = ['accuracy'])\n",
    "    return model"
   ]
  },
  {
   "cell_type": "code",
   "execution_count": null,
   "id": "435b7584",
   "metadata": {
    "scrolled": true
   },
   "outputs": [],
   "source": [
    "optimizers = ['Adadelta', 'Adagrad', 'Adam', 'RMSprop', 'SGD']\n",
    "\n",
    "for i in optimizers:\n",
    "    t1=datetime.now()\n",
    "    model = build_model(i)\n",
    "    model.summary()\n",
    "    history= model.fit(train_it, epochs= 20,batch_size=64, validation_data= val_it,verbose=2)\n",
    "    acc = history.history['accuracy']\n",
    "    val_acc = history.history['val_accuracy']\n",
    "    epochs = range(len(acc))\n",
    "    plt.title(i)\n",
    "    plt.plot(epochs, acc , 'b', label='Training acc')\n",
    "    plt.plot(epochs, val_acc , 'r', label='Val acc')\n",
    "    plt.title(i+\" Accuracy Graph\")\n",
    "    plt.legend()\n",
    "    plt.figure()\n",
    "\n",
    "    loss = history.history['loss']\n",
    "    val_loss = history.history['val_loss']\n",
    "    plt.plot(epochs, loss , 'b' , label='Training loss')\n",
    "    plt.plot(epochs, val_loss , 'r' , label='Val loss')\n",
    "    plt.title(i+' Loss Graph')\n",
    "    plt.legend()\n",
    "    plt.show()\n",
    "    t2=datetime.now()\n",
    "    time=t2-t1\n",
    "    Val_Accuracy=max(history.history['val_accuracy'])\n",
    "    Accuracy=max(history.history['accuracy'])\n",
    "    result={}\n",
    "    result[i]=list((Val_Accuracy,Accuracy,time))\n",
    "    print(\"Time taken for\",i,\" is \",t2-t1)\n",
    "    print(\"Val_Accuracy\\n a\",max(history.history['val_accuracy']),\"\\n b\",history.history['val_accuracy'][-1])\n",
    "    print(\"\")\n",
    "    print(\"Accuracy\\n a\",max(history.history['accuracy']),\"\\n b\",history.history['accuracy'][-1])\n",
    "    print(\"\")\n",
    "    print(\"-----------------------------------------------------------------------\")\n",
    "    print(\"=======================================================================\")\n",
    "\n"
   ]
  },
  {
   "cell_type": "code",
   "execution_count": null,
   "id": "63845287",
   "metadata": {},
   "outputs": [],
   "source": [
    "# t1=datetime.now()\n",
    "# for i in range(100000):\n",
    "#     pass\n",
    "# t2=datetime.now()\n",
    "# print(\"Time taken for\",i,\" is \",t2-t1)\n"
   ]
  },
  {
   "cell_type": "code",
   "execution_count": null,
   "id": "1a076d21",
   "metadata": {},
   "outputs": [],
   "source": [
    "print(result)"
   ]
  },
  {
   "cell_type": "code",
   "execution_count": null,
   "id": "eca09b1a",
   "metadata": {},
   "outputs": [],
   "source": [
    "## validation"
   ]
  },
  {
   "cell_type": "code",
   "execution_count": null,
   "id": "a3b81ac8",
   "metadata": {},
   "outputs": [],
   "source": [
    "acc = history.history['accuracy']\n",
    "val_acc = history.history['val_accuracy']\n",
    "epochs = range(len(acc))\n",
    "plt.title('opt')\n",
    "plt.plot(epochs, acc , 'b', label='Training acc')\n",
    "plt.plot(epochs, val_acc , 'r', label='Val acc')\n",
    "plt.title(\"Accuracy Graph\")\n",
    "plt.legend()\n",
    "plt.figure()\n",
    "\n",
    "loss = history.history['loss']\n",
    "val_loss = history.history['val_loss']\n",
    "plt.plot(epochs, loss , 'b' , label='Training loss')\n",
    "plt.plot(epochs, val_loss , 'r' , label='Val loss')\n",
    "plt.title('Loss Graph')\n",
    "plt.legend()\n",
    "plt.show()\n",
    "\n"
   ]
  },
  {
   "cell_type": "code",
   "execution_count": null,
   "id": "54421f8e",
   "metadata": {},
   "outputs": [],
   "source": [
    "# import pronouncing as p\n",
    "# res=p.rhymes(\"Shine\")\n",
    "# print(res)\n",
    "\n",
    "# Import the required module for text\n",
    "# to speech conversion\n",
    "from turtle import delay\n",
    "from gtts import gTTS\n",
    "\n",
    "# This module is imported so that we can\n",
    "# play the converted audio\n",
    "import os\n",
    "import random,time\n",
    "from colorama import Fore,Style,Back\n",
    "mytext = \"Hello dear! Code running completed please check the results\"\n",
    "language = 'en'\n",
    "myobj = gTTS(text=mytext, lang=language, slow=True)\n",
    "myobj.save(\"number.mp3\")\n",
    "os.system(\"number.mp3\")"
   ]
  },
  {
   "cell_type": "code",
   "execution_count": null,
   "id": "aa6b1dd4",
   "metadata": {},
   "outputs": [],
   "source": []
  },
  {
   "cell_type": "code",
   "execution_count": null,
   "id": "dcb5747a",
   "metadata": {},
   "outputs": [],
   "source": []
  },
  {
   "cell_type": "code",
   "execution_count": null,
   "id": "dfb6aac6",
   "metadata": {},
   "outputs": [],
   "source": []
  },
  {
   "cell_type": "code",
   "execution_count": null,
   "id": "fcd079b1",
   "metadata": {},
   "outputs": [],
   "source": []
  }
 ],
 "metadata": {
  "kernelspec": {
   "display_name": "Python 3 (ipykernel)",
   "language": "python",
   "name": "python3"
  },
  "language_info": {
   "codemirror_mode": {
    "name": "ipython",
    "version": 3
   },
   "file_extension": ".py",
   "mimetype": "text/x-python",
   "name": "python",
   "nbconvert_exporter": "python",
   "pygments_lexer": "ipython3",
   "version": "3.9.7"
  }
 },
 "nbformat": 4,
 "nbformat_minor": 5
}
